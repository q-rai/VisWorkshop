{
  "cells": [
    {
      "cell_type": "markdown",
      "metadata": {
        "id": "view-in-github",
        "colab_type": "text"
      },
      "source": [
        "<a href=\"https://colab.research.google.com/github/q-rai/VisWorkshop/blob/main/2024_SimBuild_Vis_Workshop.ipynb\" target=\"_parent\"><img src=\"https://colab.research.google.com/assets/colab-badge.svg\" alt=\"Open In Colab\"/></a>"
      ]
    },
    {
      "cell_type": "markdown",
      "metadata": {
        "id": "2zIplrFX62ud"
      },
      "source": [
        "# A Picture is Worth a Thousand Data Points: Introduction to Visualization\n",
        "## by Andy Berres\n",
        "\n",
        "This notebook is intended for the hands-on portion of my workshop \"A Picture is Worth a Thousand Data Points: Introduction to Visualization\" at SimBuild 2024.\n",
        "\n",
        "### QR Code for the [Github Repository](https://github.com/q-rai/VisWorkshop/)\n",
        "\n",
        "\n",
        "![image.png](data:image/png;base64,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)\n"
      ]
    },
    {
      "cell_type": "markdown",
      "metadata": {
        "id": "9yAXVg5ybC6z"
      },
      "source": [
        "## Setup\n",
        "\n",
        "Make local installs and download some needed files"
      ]
    },
    {
      "cell_type": "code",
      "execution_count": null,
      "metadata": {
        "id": "JrnSsRPl6vGO"
      },
      "outputs": [],
      "source": [
        "import matplotlib.pyplot as plt\n",
        "import pandas as pd\n",
        "import seaborn as sns\n",
        "\n",
        "!curl -s -o setup.sh https://raw.githubusercontent.com/q-rai/VisWorkshop/main/setup.sh\n",
        "!bash setup.sh"
      ]
    },
    {
      "cell_type": "markdown",
      "metadata": {
        "id": "EUf6Pi7obOOv"
      },
      "source": [
        "## Raw Data\n",
        "Let's see what the data looks like\n",
        "\n",
        "### Reading CSV Data in Python/Pandas\n",
        "Pandas makes this very easy. The file `Data/table.csv` was downloaded by the setup script above."
      ]
    },
    {
      "cell_type": "code",
      "execution_count": null,
      "metadata": {
        "id": "kVQd8myxCFlJ"
      },
      "outputs": [],
      "source": [
        "# read data and put it in a dataframe\n",
        "df = pd.read_csv('Data/table.csv')\n",
        "print(df)"
      ]
    },
    {
      "cell_type": "markdown",
      "metadata": {
        "id": "IhZGwr--cDev"
      },
      "source": [
        "### Simple Statistics\n",
        "\n",
        "I wonder if the statistical properties are of any use...\n",
        "Pandas has the `DataFrame.describe()` function which provides various statistical properties."
      ]
    },
    {
      "cell_type": "code",
      "execution_count": null,
      "metadata": {
        "id": "Kg8TyOU9cIkc"
      },
      "outputs": [],
      "source": [
        "df.describe()"
      ]
    },
    {
      "cell_type": "markdown",
      "metadata": {
        "id": "CBMDqty2bT7F"
      },
      "source": [
        "That wasn't very helpful either. Looking at the numbers, I still have no idea what this could be. So let's try plotting it.\n",
        "\n",
        "### Simple Plots in Pandas\n",
        "Pandas has some handy plotting functions."
      ]
    },
    {
      "cell_type": "code",
      "execution_count": null,
      "metadata": {
        "id": "YDMgfeMOCwNF"
      },
      "outputs": [],
      "source": [
        "df.plot()"
      ]
    },
    {
      "cell_type": "markdown",
      "metadata": {
        "id": "4wvMXPiJbtu6"
      },
      "source": [
        "Well, that wasn't very helpful. Let's try to be more specific.\n",
        "\n",
        "### Scatter Plots in Pandas\n",
        "Pandas lets you specify plot types. You can find all the supported plot types in their [documentation](https://pandas.pydata.org/pandas-docs/stable/reference/api/pandas.DataFrame.plot.html). Under the hood, it's all `matplotlib` so you can use the `matplotlib` settings to modify your plot."
      ]
    },
    {
      "cell_type": "code",
      "execution_count": null,
      "metadata": {
        "id": "OYjp4fOBbdxx"
      },
      "outputs": [],
      "source": [
        "df.plot(x='x', y='y', kind='scatter')"
      ]
    },
    {
      "cell_type": "markdown",
      "metadata": {
        "id": "Qvz54rIdb7SH"
      },
      "source": [
        "Much better, isn't it?\n",
        "\n",
        "### Let's look at some more interesting data\n",
        "We'll be using Seaborn. It's based on Matplotlib, and it makes plotting easy (especially for pandas dataframes).\n",
        "Seaborn brings a bunch of test datasets you can play with. You can get a full list using `sns.get_dataset_names()`."
      ]
    },
    {
      "cell_type": "code",
      "execution_count": null,
      "metadata": {
        "id": "tFXXFf3rWXlf"
      },
      "outputs": [],
      "source": [
        "cars = sns.load_dataset('mpg')\n",
        "print(cars)"
      ]
    },
    {
      "cell_type": "markdown",
      "metadata": {
        "id": "BDpcdocyWXlf"
      },
      "source": [
        "#### Simple scatter plot"
      ]
    },
    {
      "cell_type": "code",
      "execution_count": null,
      "metadata": {
        "id": "Mx41hzAfWXlf"
      },
      "outputs": [],
      "source": [
        "sns.scatterplot(data=cars, x='horsepower', y='mpg')"
      ]
    },
    {
      "cell_type": "markdown",
      "metadata": {
        "id": "-sih3S8QWXlf"
      },
      "source": [
        "### Change some colors\n",
        "\n",
        "#### By origin\n",
        "Origin is a discrete category, so we're using a categorical colormap. Seaborn will do this for you automatically."
      ]
    },
    {
      "cell_type": "code",
      "execution_count": null,
      "metadata": {
        "id": "LlFfR0c9WXlf"
      },
      "outputs": [],
      "source": [
        "sns.scatterplot(data=cars, x='horsepower', y='mpg', hue='origin')\n"
      ]
    },
    {
      "cell_type": "markdown",
      "metadata": {
        "id": "OdX9uqGzWXlf"
      },
      "source": [
        "#### By model year\n"
      ]
    },
    {
      "cell_type": "code",
      "execution_count": null,
      "metadata": {
        "id": "1nrwWoCkWXlf"
      },
      "outputs": [],
      "source": [
        "sns.scatterplot(data=cars, x='horsepower', y='mpg', hue='model_year')\n"
      ]
    },
    {
      "cell_type": "markdown",
      "metadata": {
        "id": "yL2gbOoWWXlf"
      },
      "source": [
        "#### Try a different colormap\n",
        "\n",
        "Seaborn has different colormap (or color palette) options. You can see them here: https://seaborn.pydata.org/tutorial/color_palettes.html"
      ]
    },
    {
      "cell_type": "code",
      "execution_count": null,
      "metadata": {
        "id": "CsUy8ugdWXlf"
      },
      "outputs": [],
      "source": [
        "sns.set(style='white')\n",
        "sns.scatterplot(data=cars, x='horsepower', y='mpg', hue='model_year', palette='viridis')"
      ]
    },
    {
      "cell_type": "markdown",
      "metadata": {
        "id": "CtTjfpfBWXlf"
      },
      "source": [
        "#### Change background\n",
        "Options include `white` (blank background), `dark`, `whitegrid`, and `darkgrid`. Go ahead and try these out to see which one you like best."
      ]
    },
    {
      "cell_type": "code",
      "execution_count": null,
      "metadata": {
        "id": "t8ethb3PWXlf"
      },
      "outputs": [],
      "source": [
        "sns.set(style='whitegrid')\n",
        "sns.scatterplot(data=cars, x='horsepower', y='mpg', hue='model_year', palette='viridis')"
      ]
    },
    {
      "cell_type": "markdown",
      "metadata": {
        "id": "aWkkTRsvWXlg"
      },
      "source": [
        "#### Change marker sizes\n",
        "\n",
        "If you have a multidimensional dataset, marker size is another way to get more information about your data into the same plot. This variable should be numerical."
      ]
    },
    {
      "cell_type": "code",
      "execution_count": null,
      "metadata": {
        "id": "QIVXUwRcWXlg"
      },
      "outputs": [],
      "source": [
        "sns.scatterplot(data=cars, x='horsepower', y='mpg', hue='model_year', palette='viridis', size='weight', sizes=(5,50))"
      ]
    },
    {
      "cell_type": "markdown",
      "metadata": {
        "id": "ES4YA9s8WXlg"
      },
      "source": [
        "#### The legend is blocking my view!\n",
        "You can move it around fairly easily."
      ]
    },
    {
      "cell_type": "code",
      "execution_count": null,
      "metadata": {
        "id": "5ap7y2paWXlg"
      },
      "outputs": [],
      "source": [
        "sns.scatterplot(data=cars, x='horsepower', y='mpg', hue='model_year', palette='viridis', size='weight', sizes=(5,100))\n",
        "plt.legend(bbox_to_anchor=(1.02, 1), loc='upper left', borderaxespad=0)\n"
      ]
    },
    {
      "cell_type": "markdown",
      "metadata": {
        "id": "00EPF16xWXlg"
      },
      "source": [
        "#### Split by different variables\n",
        "You can also make the same plot multiple times for different categorical values. Let's make one scatterplot per region of origin.\n",
        "One important thing to know about `relplot` is that the x-axis and y-axis will be identical for all plots it makes, to make them comparable."
      ]
    },
    {
      "cell_type": "code",
      "execution_count": null,
      "metadata": {
        "id": "MM_ba_tkWXlg"
      },
      "outputs": [],
      "source": [
        "sns.relplot(data=cars, x='horsepower', y='mpg', hue='model_year', palette='viridis', size='weight', sizes=(5,100), col='origin')\n"
      ]
    },
    {
      "cell_type": "markdown",
      "metadata": {
        "id": "kbnyGPyrWXlg"
      },
      "source": [
        "### Plotting options\n",
        "\n",
        "Depending on what you use your plot for (`paper`, `talk`, `poster`), you may want different label sizes to keep everything legible. For more styling options: https://seaborn.pydata.org/tutorial/aesthetics.html"
      ]
    },
    {
      "cell_type": "code",
      "execution_count": null,
      "metadata": {
        "id": "MXw1-99rWXlg"
      },
      "outputs": [],
      "source": [
        "sns.set_context(\"talk\")\n",
        "sns.relplot(data=cars, x='horsepower', y='mpg', hue='model_year', palette='viridis', size='weight', sizes=(5,100), col='origin')\n"
      ]
    },
    {
      "cell_type": "code",
      "execution_count": null,
      "metadata": {
        "id": "m6gaDnPEWXlg"
      },
      "outputs": [],
      "source": [
        "sns.set_context(\"poster\")\n",
        "sns.relplot(data=cars, x='horsepower', y='mpg', hue='model_year', palette='viridis', size='weight', sizes=(5,100), col='origin')\n"
      ]
    },
    {
      "cell_type": "markdown",
      "metadata": {
        "id": "pmjudV46WXlg"
      },
      "source": [
        "## More visualization\n",
        "Seaborn alone has many more plot types. Check out their example gallery here: https://seaborn.pydata.org/examples/index.html"
      ]
    }
  ],
  "metadata": {
    "colab": {
      "provenance": [],
      "include_colab_link": true
    },
    "kernelspec": {
      "display_name": "Python 3",
      "name": "python3"
    },
    "language_info": {
      "codemirror_mode": {
        "name": "ipython",
        "version": 3
      },
      "file_extension": ".py",
      "mimetype": "text/x-python",
      "name": "python",
      "nbconvert_exporter": "python",
      "pygments_lexer": "ipython3",
      "version": "3.11.4"
    }
  },
  "nbformat": 4,
  "nbformat_minor": 0
}