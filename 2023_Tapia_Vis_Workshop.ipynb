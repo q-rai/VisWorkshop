{
  "cells": [
    {
      "attachments": {},
      "cell_type": "markdown",
      "metadata": {
        "id": "2zIplrFX62ud"
      },
      "source": [
        "# A Picture is Worth a Thousand Data Points: Introduction to Visualization\n",
        "## by Andy Berres\n",
        "\n",
        "This notebook is intended for the hands-on portion of my workshop \"A Picture is Worth a Thousand Data Points: Introduction to Visualization\" at Tapia 2023.\n",
        "\n",
        "\n",
        "\n"
      ]
    },
    {
      "attachments": {},
      "cell_type": "markdown",
      "metadata": {
        "id": "9yAXVg5ybC6z"
      },
      "source": [
        "## Setup\n",
        "\n",
        "Make local installs and download some needed files"
      ]
    },
    {
      "cell_type": "code",
      "execution_count": null,
      "metadata": {
        "id": "JrnSsRPl6vGO"
      },
      "outputs": [],
      "source": [
        "import pandas as pd\n",
        "\n",
        "\n",
        "!curl -s -o setup.sh https://raw.githubusercontent.com/q-rai/VisWorkshop/main/setup.sh\n",
        "!bash setup.sh"
      ]
    },
    {
      "attachments": {},
      "cell_type": "markdown",
      "metadata": {
        "id": "EUf6Pi7obOOv"
      },
      "source": [
        "## Raw Data\n",
        "Let's see what the data looks like\n",
        "\n",
        "### Reading CSV Data in Python/Pandas\n",
        "Pandas makes this very easy. The file `Data/table.csv` was downloaded by the setup script above."
      ]
    },
    {
      "cell_type": "code",
      "execution_count": null,
      "metadata": {
        "colab": {
          "base_uri": "https://localhost:8080/"
        },
        "id": "kVQd8myxCFlJ",
        "outputId": "8c723816-1748-4e66-b38e-ff3f50a7da83"
      },
      "outputs": [],
      "source": [
        "# read data and put it in a dataframe\n",
        "df = pd.read_csv('Data/table.csv')\n",
        "print(df)"
      ]
    },
    {
      "attachments": {},
      "cell_type": "markdown",
      "metadata": {
        "id": "IhZGwr--cDev"
      },
      "source": [
        "### Simple Statistics\n",
        "\n",
        "I wonder if the statistical properties are of any use...\n",
        "Pandas has the `DataFrame.describe()` function which provides various statistical properties."
      ]
    },
    {
      "cell_type": "code",
      "execution_count": null,
      "metadata": {
        "colab": {
          "base_uri": "https://localhost:8080/",
          "height": 300
        },
        "id": "Kg8TyOU9cIkc",
        "outputId": "b4f70978-d3cd-4ee0-9839-47a86454a683"
      },
      "outputs": [],
      "source": [
        "df.describe()"
      ]
    },
    {
      "attachments": {},
      "cell_type": "markdown",
      "metadata": {
        "id": "CBMDqty2bT7F"
      },
      "source": [
        "That wasn't very helpful either. Looking at the numbers, I still have no idea what this could be. So let's try plotting it.\n",
        "\n",
        "### Simple Plots in Pandas\n",
        "Pandas has some handy plotting functions."
      ]
    },
    {
      "cell_type": "code",
      "execution_count": null,
      "metadata": {
        "colab": {
          "base_uri": "https://localhost:8080/",
          "height": 448
        },
        "id": "YDMgfeMOCwNF",
        "outputId": "7b8e5487-a0d2-42f7-f471-b153bc5ca05c"
      },
      "outputs": [],
      "source": [
        "df.plot()"
      ]
    },
    {
      "attachments": {},
      "cell_type": "markdown",
      "metadata": {
        "id": "4wvMXPiJbtu6"
      },
      "source": [
        "Well, that wasn't very helpful. Let's try to be more specific.\n",
        "\n",
        "### Scatter Plots in Pandas\n",
        "Pandas lets you specify plot types. You can find all the supported plot types in their [documentation](https://pandas.pydata.org/pandas-docs/stable/reference/api/pandas.DataFrame.plot.html). Under the hood, it's all `matplotlib` so you can use the `matplotlib` settings to modify your plot."
      ]
    },
    {
      "cell_type": "code",
      "execution_count": null,
      "metadata": {
        "colab": {
          "base_uri": "https://localhost:8080/",
          "height": 467
        },
        "id": "OYjp4fOBbdxx",
        "outputId": "04102481-fc64-4efa-a3ba-a09ba2226f7c"
      },
      "outputs": [],
      "source": [
        "df.plot(x='x', y='y', kind='scatter')"
      ]
    },
    {
      "attachments": {},
      "cell_type": "markdown",
      "metadata": {
        "id": "Qvz54rIdb7SH"
      },
      "source": [
        "Much better, isn't it?\n",
        "\n",
        "### Let's look at some more interesting data\n",
        "We'll be using Seaborn. It's based on Matplotlib, and it makes plotting easy (especially for pandas dataframes).\n",
        "Seaborn brings a bunch of test datasets you can play with. You can get a full list using `sns.get_dataset_names()`."
      ]
    },
    {
      "cell_type": "code",
      "execution_count": null,
      "metadata": {},
      "outputs": [],
      "source": [
        "import seaborn as sns\n",
        "\n",
        "cars = sns.load_dataset('mpg')\n",
        "print(cars)"
      ]
    },
    {
      "attachments": {},
      "cell_type": "markdown",
      "metadata": {},
      "source": [
        "#### Simple scatter plot"
      ]
    },
    {
      "cell_type": "code",
      "execution_count": null,
      "metadata": {},
      "outputs": [],
      "source": [
        "sns.scatterplot(data=cars, x='horsepower', y='mpg')"
      ]
    },
    {
      "attachments": {},
      "cell_type": "markdown",
      "metadata": {},
      "source": [
        "### Change some colors\n",
        "\n",
        "#### By origin\n",
        "Origin is a discrete category, so we're using a categorical colormap. Seaborn will do this for you automatically."
      ]
    },
    {
      "cell_type": "code",
      "execution_count": null,
      "metadata": {},
      "outputs": [],
      "source": [
        "sns.scatterplot(data=cars, x='horsepower', y='mpg', hue='origin')\n"
      ]
    },
    {
      "attachments": {},
      "cell_type": "markdown",
      "metadata": {},
      "source": [
        "#### By model year\n"
      ]
    },
    {
      "cell_type": "code",
      "execution_count": null,
      "metadata": {},
      "outputs": [],
      "source": [
        "sns.scatterplot(data=cars, x='horsepower', y='mpg', hue='model_year')\n"
      ]
    },
    {
      "attachments": {},
      "cell_type": "markdown",
      "metadata": {},
      "source": [
        "#### Try a different colormap\n",
        "\n",
        "Seaborn has different colormap (or color palette) options. You can see them here: https://seaborn.pydata.org/tutorial/color_palettes.html"
      ]
    },
    {
      "cell_type": "code",
      "execution_count": null,
      "metadata": {},
      "outputs": [],
      "source": [
        "sns.set(style='white')\n",
        "sns.scatterplot(data=cars, x='horsepower', y='mpg', hue='model_year', palette='viridis')"
      ]
    },
    {
      "attachments": {},
      "cell_type": "markdown",
      "metadata": {},
      "source": [
        "#### Change background\n",
        "Options include `white` (blank background), `dark`, `whitegrid`, and `darkgrid`. Go ahead and try these out to see which one you like best."
      ]
    },
    {
      "cell_type": "code",
      "execution_count": null,
      "metadata": {},
      "outputs": [],
      "source": [
        "sns.set(style='darkgrid')\n",
        "sns.scatterplot(data=cars, x='horsepower', y='mpg', hue='model_year', palette='viridis')"
      ]
    },
    {
      "attachments": {},
      "cell_type": "markdown",
      "metadata": {},
      "source": [
        "#### Change marker sizes\n",
        "\n",
        "If you have a multidimensional dataset, marker size is another way to get more information about your data into the same plot. This variable should be numerical."
      ]
    },
    {
      "cell_type": "code",
      "execution_count": null,
      "metadata": {},
      "outputs": [],
      "source": [
        "sns.scatterplot(data=cars, x='horsepower', y='mpg', hue='model_year', palette='viridis', size='weight', sizes=(5,100))"
      ]
    },
    {
      "attachments": {},
      "cell_type": "markdown",
      "metadata": {},
      "source": [
        "#### The legend is blocking my view!\n",
        "You can move it around fairly easily."
      ]
    },
    {
      "cell_type": "code",
      "execution_count": null,
      "metadata": {},
      "outputs": [],
      "source": [
        "import matplotlib.pyplot as plt\n",
        "sns.scatterplot(data=cars, x='horsepower', y='mpg', hue='model_year', palette='viridis', size='weight', sizes=(5,100))\n",
        "plt.legend(bbox_to_anchor=(1.02, 1), loc='upper left', borderaxespad=0)\n"
      ]
    },
    {
      "attachments": {},
      "cell_type": "markdown",
      "metadata": {},
      "source": [
        "#### Split by different variables\n",
        "You can also make the same plot multiple times for different categorical values. Let's make one scatterplot per region of origin.\n",
        "One important thing to know about `relplot` is that the x-axis and y-axis will be identical for all plots it makes, to make them comparable."
      ]
    },
    {
      "cell_type": "code",
      "execution_count": null,
      "metadata": {},
      "outputs": [],
      "source": [
        "sns.relplot(data=cars, x='horsepower', y='mpg', hue='model_year', palette='viridis', size='weight', sizes=(5,100), col='origin')\n"
      ]
    },
    {
      "attachments": {},
      "cell_type": "markdown",
      "metadata": {},
      "source": [
        "### Plotting options\n",
        "\n",
        "Depending on what you use your plot for (`paper`, `talk`, `poster`), you may want different label sizes to keep everything legible. For more styling options: https://seaborn.pydata.org/tutorial/aesthetics.html"
      ]
    },
    {
      "cell_type": "code",
      "execution_count": null,
      "metadata": {},
      "outputs": [],
      "source": [
        "sns.set_context(\"talk\")\n",
        "sns.relplot(data=cars, x='horsepower', y='mpg', hue='model_year', palette='viridis', size='weight', sizes=(5,100), col='origin')\n"
      ]
    },
    {
      "cell_type": "code",
      "execution_count": null,
      "metadata": {},
      "outputs": [],
      "source": [
        "sns.set_context(\"poster\")\n",
        "sns.relplot(data=cars, x='horsepower', y='mpg', hue='model_year', palette='viridis', size='weight', sizes=(5,100), col='origin')\n"
      ]
    },
    {
      "attachments": {},
      "cell_type": "markdown",
      "metadata": {},
      "source": [
        "## More visualization\n",
        "Seaborn alone has many more plot types. Check out their example gallery here: https://seaborn.pydata.org/examples/index.html"
      ]
    }
  ],
  "metadata": {
    "colab": {
      "provenance": []
    },
    "kernelspec": {
      "display_name": "Python 3",
      "name": "python3"
    },
    "language_info": {
      "codemirror_mode": {
        "name": "ipython",
        "version": 3
      },
      "file_extension": ".py",
      "mimetype": "text/x-python",
      "name": "python",
      "nbconvert_exporter": "python",
      "pygments_lexer": "ipython3",
      "version": "3.11.4"
    }
  },
  "nbformat": 4,
  "nbformat_minor": 0
}
